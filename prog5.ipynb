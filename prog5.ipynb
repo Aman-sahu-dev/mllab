{
 "cells": [
  {
   "cell_type": "code",
   "execution_count": 1,
   "id": "415f752d",
   "metadata": {},
   "outputs": [
    {
     "ename": "SyntaxError",
     "evalue": "invalid syntax (836478162.py, line 13)",
     "output_type": "error",
     "traceback": [
      "\u001b[1;36m  Cell \u001b[1;32mIn[1], line 13\u001b[1;36m\u001b[0m\n\u001b[1;33m    iteration =\u001b[0m\n\u001b[1;37m                ^\u001b[0m\n\u001b[1;31mSyntaxError\u001b[0m\u001b[1;31m:\u001b[0m invalid syntax\n"
     ]
    }
   ],
   "source": [
    "import numpy as np\n",
    "X = np.array(([2, 9], [1, 5], [3, 6]), dtype=float)\n",
    "y = np.array(([92], [86], [89]), dtype=float)\n",
    "X = X/np.amax(X,axis=0)\n",
    "y = y/100\n",
    "\n",
    "def sigmoid (x):\n",
    "    return 1/(1 + np.exp(-x))\n",
    "\n",
    "def gradient(x):\n",
    "    return x * (1 - x)\n",
    "\n",
    "iteration = 5000\n",
    "learning_rate = 0.1\n",
    "inputlayer_neurons = 2\n",
    "hiddenlayer_neurons = 3\n",
    "output_neurons = 1\n",
    "\n",
    "hidden_w = np.random.uniform(size=(inputlayer_neurons,hiddenlayer_neurons))\n",
    "output_w = np.random.uniform(size=(hiddenlayer_neurons,output_neurons))\n",
    "hidden_bias = np.random.uniform(size=(1,hiddenlayer_neurons))\n",
    "output_bias = np.random.uniform(size=(1,output_neurons))\n",
    "\n",
    "for i in range(iteration):\n",
    "    hidden_inp = np.dot(X, hidden_w)\n",
    "    hidden_layer = sigmoid(hidden_inp + hidden_bias)\n",
    "    \n",
    "    out_inp = np.dot(hidden_layer,output_w)\n",
    "    output = sigmoid(out_inp+ output_bias)\n",
    "    \n",
    "    error = y-output\n",
    "    outgrad = gradient(output)\n",
    "    d_output = error * outgrad\n",
    "    \n",
    "    EH = d_output.dot(output_w.T)\n",
    "    hiddengrad = gradient(hidden_layer)\n",
    "    d_hiddenlayer = EH * hiddengrad\n",
    "    \n",
    "    output_w += hidden_layer.T.dot(d_output) * learning_rate\n",
    "    hidden_w += X.T.dot(d_hiddenlayer) * learning_rate\n",
    "    \n",
    "    print(\"\\nInput: \\n\", str(X))\n",
    "    print(\"\\nPredicted Output: \\n\", str(y))\n",
    "    print(\"\\nActual Output: \\n\", str(output))"
   ]
  },
  {
   "cell_type": "code",
   "execution_count": null,
   "id": "1b9015a3",
   "metadata": {},
   "outputs": [],
   "source": []
  },
  {
   "cell_type": "code",
   "execution_count": null,
   "id": "2a251661",
   "metadata": {},
   "outputs": [],
   "source": []
  }
 ],
 "metadata": {
  "kernelspec": {
   "display_name": "Python 3 (ipykernel)",
   "language": "python",
   "name": "python3"
  },
  "language_info": {
   "codemirror_mode": {
    "name": "ipython",
    "version": 3
   },
   "file_extension": ".py",
   "mimetype": "text/x-python",
   "name": "python",
   "nbconvert_exporter": "python",
   "pygments_lexer": "ipython3",
   "version": "3.11.1"
  }
 },
 "nbformat": 4,
 "nbformat_minor": 5
}
